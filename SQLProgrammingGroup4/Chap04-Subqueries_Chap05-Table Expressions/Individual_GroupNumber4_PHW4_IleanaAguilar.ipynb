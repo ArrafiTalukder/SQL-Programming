{
    "metadata": {
        "kernelspec": {
            "name": "SQL",
            "display_name": "SQL",
            "language": "sql"
        },
        "language_info": {
            "name": "sql",
            "version": ""
        }
    },
    "nbformat_minor": 2,
    "nbformat": 4,
    "cells": [
        {
            "cell_type": "markdown",
            "source": [
                "# My Top 5"
            ],
            "metadata": {
                "azdata_cell_guid": "3e15a479-d3df-434e-a229-bbf179f58eb2"
            }
        },
        {
            "cell_type": "markdown",
            "source": [
                "# Exercise"
            ],
            "metadata": {
                "azdata_cell_guid": "3fff10f2-1ca3-4739-80f1-fc94a9e6fa19"
            },
            "attachments": {}
        },
        {
            "cell_type": "markdown",
            "source": [
                "# Exercise 3\n",
                "\n",
                "-- Write a query that returns customer and employee pairs\n",
                "\n",
                "-- that had order activity in January 2016 but not in February 2016 \n",
                "\n",
                "-- Tables involved: TSQLV4 database, Orders table"
            ],
            "metadata": {
                "azdata_cell_guid": "0170db15-9ee3-43d0-86f7-f77d6b04ffeb"
            },
            "attachments": {}
        },
        {
            "cell_type": "code",
            "source": [
                "USE TSQLV4;\n",
                "WITH JanuaryOrders AS (\n",
                "    SELECT custid, empid\n",
                "    FROM Sales.Orders\n",
                "    WHERE orderdate >= '2016-01-01' AND orderdate < '2016-02-01'\n",
                "),\n",
                "FebruaryOrders AS (\n",
                "    SELECT custid, empid\n",
                "    FROM Sales.Orders\n",
                "    WHERE orderdate >= '2016-02-01' AND orderdate < '2016-03-01'\n",
                ")\n",
                "SELECT j.custid, j.empid\n",
                "FROM JanuaryOrders j\n",
                "LEFT JOIN FebruaryOrders f ON j.custid = f.custid AND j.empid = f.empid\n",
                "WHERE f.custid IS NULL AND f.empid IS NULL;\n",
                ""
            ],
            "metadata": {
                "azdata_cell_guid": "4428d0a8-cdfc-4654-af08-80829473c2a6",
                "language": "sql"
            },
            "outputs": [
                {
                    "output_type": "display_data",
                    "data": {
                        "text/html": "(50 rows affected)"
                    },
                    "metadata": {}
                },
                {
                    "output_type": "display_data",
                    "data": {
                        "text/html": "Total execution time: 00:00:00.137"
                    },
                    "metadata": {}
                },
                {
                    "output_type": "execute_result",
                    "metadata": {},
                    "execution_count": 2,
                    "data": {
                        "application/vnd.dataresource+json": {
                            "schema": {
                                "fields": [
                                    {
                                        "name": "custid"
                                    },
                                    {
                                        "name": "empid"
                                    }
                                ]
                            },
                            "data": [
                                {
                                    "custid": "5",
                                    "empid": "9"
                                },
                                {
                                    "custid": "84",
                                    "empid": "4"
                                },
                                {
                                    "custid": "20",
                                    "empid": "7"
                                },
                                {
                                    "custid": "17",
                                    "empid": "1"
                                },
                                {
                                    "custid": "7",
                                    "empid": "6"
                                },
                                {
                                    "custid": "26",
                                    "empid": "3"
                                },
                                {
                                    "custid": "42",
                                    "empid": "2"
                                },
                                {
                                    "custid": "81",
                                    "empid": "1"
                                },
                                {
                                    "custid": "38",
                                    "empid": "9"
                                },
                                {
                                    "custid": "64",
                                    "empid": "9"
                                },
                                {
                                    "custid": "63",
                                    "empid": "8"
                                },
                                {
                                    "custid": "44",
                                    "empid": "8"
                                },
                                {
                                    "custid": "88",
                                    "empid": "7"
                                },
                                {
                                    "custid": "81",
                                    "empid": "4"
                                },
                                {
                                    "custid": "41",
                                    "empid": "2"
                                },
                                {
                                    "custid": "65",
                                    "empid": "8"
                                },
                                {
                                    "custid": "47",
                                    "empid": "3"
                                },
                                {
                                    "custid": "70",
                                    "empid": "3"
                                },
                                {
                                    "custid": "76",
                                    "empid": "5"
                                },
                                {
                                    "custid": "16",
                                    "empid": "7"
                                },
                                {
                                    "custid": "39",
                                    "empid": "3"
                                },
                                {
                                    "custid": "12",
                                    "empid": "2"
                                },
                                {
                                    "custid": "24",
                                    "empid": "8"
                                },
                                {
                                    "custid": "55",
                                    "empid": "2"
                                },
                                {
                                    "custid": "65",
                                    "empid": "3"
                                },
                                {
                                    "custid": "47",
                                    "empid": "4"
                                },
                                {
                                    "custid": "56",
                                    "empid": "6"
                                },
                                {
                                    "custid": "80",
                                    "empid": "1"
                                },
                                {
                                    "custid": "76",
                                    "empid": "2"
                                },
                                {
                                    "custid": "82",
                                    "empid": "6"
                                },
                                {
                                    "custid": "9",
                                    "empid": "1"
                                },
                                {
                                    "custid": "5",
                                    "empid": "8"
                                },
                                {
                                    "custid": "6",
                                    "empid": "9"
                                },
                                {
                                    "custid": "84",
                                    "empid": "3"
                                },
                                {
                                    "custid": "67",
                                    "empid": "5"
                                },
                                {
                                    "custid": "40",
                                    "empid": "2"
                                },
                                {
                                    "custid": "89",
                                    "empid": "4"
                                },
                                {
                                    "custid": "32",
                                    "empid": "4"
                                },
                                {
                                    "custid": "25",
                                    "empid": "1"
                                },
                                {
                                    "custid": "47",
                                    "empid": "8"
                                },
                                {
                                    "custid": "3",
                                    "empid": "3"
                                },
                                {
                                    "custid": "66",
                                    "empid": "5"
                                },
                                {
                                    "custid": "49",
                                    "empid": "7"
                                },
                                {
                                    "custid": "59",
                                    "empid": "8"
                                },
                                {
                                    "custid": "75",
                                    "empid": "1"
                                },
                                {
                                    "custid": "55",
                                    "empid": "3"
                                },
                                {
                                    "custid": "81",
                                    "empid": "3"
                                },
                                {
                                    "custid": "71",
                                    "empid": "2"
                                },
                                {
                                    "custid": "1",
                                    "empid": "1"
                                },
                                {
                                    "custid": "84",
                                    "empid": "1"
                                }
                            ]
                        },
                        "text/html": [
                            "<table>",
                            "<tr><th>custid</th><th>empid</th></tr>",
                            "<tr><td>5</td><td>9</td></tr>",
                            "<tr><td>84</td><td>4</td></tr>",
                            "<tr><td>20</td><td>7</td></tr>",
                            "<tr><td>17</td><td>1</td></tr>",
                            "<tr><td>7</td><td>6</td></tr>",
                            "<tr><td>26</td><td>3</td></tr>",
                            "<tr><td>42</td><td>2</td></tr>",
                            "<tr><td>81</td><td>1</td></tr>",
                            "<tr><td>38</td><td>9</td></tr>",
                            "<tr><td>64</td><td>9</td></tr>",
                            "<tr><td>63</td><td>8</td></tr>",
                            "<tr><td>44</td><td>8</td></tr>",
                            "<tr><td>88</td><td>7</td></tr>",
                            "<tr><td>81</td><td>4</td></tr>",
                            "<tr><td>41</td><td>2</td></tr>",
                            "<tr><td>65</td><td>8</td></tr>",
                            "<tr><td>47</td><td>3</td></tr>",
                            "<tr><td>70</td><td>3</td></tr>",
                            "<tr><td>76</td><td>5</td></tr>",
                            "<tr><td>16</td><td>7</td></tr>",
                            "<tr><td>39</td><td>3</td></tr>",
                            "<tr><td>12</td><td>2</td></tr>",
                            "<tr><td>24</td><td>8</td></tr>",
                            "<tr><td>55</td><td>2</td></tr>",
                            "<tr><td>65</td><td>3</td></tr>",
                            "<tr><td>47</td><td>4</td></tr>",
                            "<tr><td>56</td><td>6</td></tr>",
                            "<tr><td>80</td><td>1</td></tr>",
                            "<tr><td>76</td><td>2</td></tr>",
                            "<tr><td>82</td><td>6</td></tr>",
                            "<tr><td>9</td><td>1</td></tr>",
                            "<tr><td>5</td><td>8</td></tr>",
                            "<tr><td>6</td><td>9</td></tr>",
                            "<tr><td>84</td><td>3</td></tr>",
                            "<tr><td>67</td><td>5</td></tr>",
                            "<tr><td>40</td><td>2</td></tr>",
                            "<tr><td>89</td><td>4</td></tr>",
                            "<tr><td>32</td><td>4</td></tr>",
                            "<tr><td>25</td><td>1</td></tr>",
                            "<tr><td>47</td><td>8</td></tr>",
                            "<tr><td>3</td><td>3</td></tr>",
                            "<tr><td>66</td><td>5</td></tr>",
                            "<tr><td>49</td><td>7</td></tr>",
                            "<tr><td>59</td><td>8</td></tr>",
                            "<tr><td>75</td><td>1</td></tr>",
                            "<tr><td>55</td><td>3</td></tr>",
                            "<tr><td>81</td><td>3</td></tr>",
                            "<tr><td>71</td><td>2</td></tr>",
                            "<tr><td>1</td><td>1</td></tr>",
                            "<tr><td>84</td><td>1</td></tr>",
                            "</table>"
                        ]
                    }
                }
            ],
            "execution_count": 2
        },
        {
            "cell_type": "markdown",
            "source": [
                "# Queries"
            ],
            "metadata": {
                "azdata_cell_guid": "4668a7be-3ab9-4925-9ee9-335f6362761b"
            },
            "attachments": {}
        },
        {
            "cell_type": "markdown",
            "source": [
                "# The EXCEPT Operator"
            ],
            "metadata": {
                "azdata_cell_guid": "df99c7e5-f365-41f6-8675-e678ab6318d8"
            },
            "attachments": {}
        },
        {
            "cell_type": "code",
            "source": [
                "-- Employees EXCEPT Customers\n",
                "SELECT country, region, city FROM HR.Employees\n",
                "EXCEPT\n",
                "SELECT country, region, city FROM Sales.Customers;\n",
                ""
            ],
            "metadata": {
                "azdata_cell_guid": "1d102191-9158-4a32-8d67-fb297dfd2f75",
                "language": "sql"
            },
            "outputs": [],
            "execution_count": null
        },
        {
            "cell_type": "markdown",
            "source": [
                "# Circumventing Unsupported Logical Phases (Optional, Advanced)\n",
                ""
            ],
            "metadata": {
                "language": "sql",
                "azdata_cell_guid": "a794ed8b-3039-4a69-8235-b1546457674a"
            },
            "attachments": {}
        },
        {
            "cell_type": "code",
            "source": [
                "-- Number of distinct locations\n",
                "-- that are either employee or customer locations in each country\n",
                "SELECT country, COUNT(*) AS numlocations\n",
                "FROM (SELECT country, region, city FROM HR.Employees\n",
                "      UNION\n",
                "      SELECT country, region, city FROM Sales.Customers) AS U\n",
                "GROUP BY country;\n",
                ""
            ],
            "metadata": {
                "language": "sql",
                "azdata_cell_guid": "9cc7df4d-23e4-4a04-9148-444e879957ac"
            },
            "outputs": [],
            "execution_count": null
        }
    ]
}